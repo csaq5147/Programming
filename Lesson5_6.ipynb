{
 "cells": [
  {
   "cell_type": "markdown",
   "metadata": {},
   "source": [
    "# Recall Thursday's Lesson"
   ]
  },
  {
   "cell_type": "code",
   "execution_count": 16,
   "metadata": {
    "collapsed": false
   },
   "outputs": [],
   "source": [
    "!export PYTHONPATH='.' #why?"
   ]
  },
  {
   "cell_type": "code",
   "execution_count": 8,
   "metadata": {
    "collapsed": false
   },
   "outputs": [
    {
     "name": "stdout",
     "output_type": "stream",
     "text": [
      "Overwriting framecode.py\n"
     ]
    }
   ],
   "source": [
    "%%writefile framecode.py\n",
    "#!/usr/bin/env pythonw                            #!/usr/bin/env python on linux\n",
    "import wx\n",
    "\n",
    "app = wx.App(False)                               #create a new app, don't redirect stdout/stderr to\n",
    "frame = wx.Frame(None, wx.ID_ANY, \"Hello World\")  # A frame is the top-level\n",
    "frame.Show(True)                                  #Show the frame\n",
    "app.MainLoop()"
   ]
  },
  {
   "cell_type": "code",
   "execution_count": 13,
   "metadata": {
    "collapsed": false
   },
   "outputs": [],
   "source": [
    "!pythonw framecode.py"
   ]
  },
  {
   "cell_type": "markdown",
   "metadata": {},
   "source": [
    "## wx.TextCtrl widget — A simple text editor"
   ]
  },
  {
   "cell_type": "code",
   "execution_count": 5,
   "metadata": {
    "collapsed": false
   },
   "outputs": [
    {
     "name": "stdout",
     "output_type": "stream",
     "text": [
      "Overwriting editor.py\n"
     ]
    }
   ],
   "source": [
    "%%writefile editor.py\n",
    "#!/usr/bin/env pythonw\n",
    "import wx\n",
    "class MyFrame(wx.Frame):\n",
    "        \"\"\"We simply derive a new class of frame\"\"\"\n",
    "        def __init__(self, parent, title):\n",
    "            wx.Frame.__init__(self, parent, title=title, size=(200,100))\n",
    "            self.control = wx.TextCtrl(self, style=wx.TE_MULTILINE)\n",
    "            self.Show(True)\n",
    "\n",
    "app = wx.App(False)\n",
    "frame = MyFrame(None, 'Small editor')\n",
    "app.MainLoop()"
   ]
  },
  {
   "cell_type": "code",
   "execution_count": 14,
   "metadata": {
    "collapsed": false
   },
   "outputs": [],
   "source": [
    "!pythonw editor.py"
   ]
  },
  {
   "cell_type": "markdown",
   "metadata": {},
   "source": [
    "## Status bars & Menu bars"
   ]
  },
  {
   "cell_type": "code",
   "execution_count": 18,
   "metadata": {
    "collapsed": false
   },
   "outputs": [
    {
     "name": "stdout",
     "output_type": "stream",
     "text": [
      "Overwriting MainWindow.py\n"
     ]
    }
   ],
   "source": [
    "%%writefile MainWindow.py\n",
    "#!/usr/bin/env pythonw\n",
    "import wx\n",
    "class MyFrame(wx.Frame):\n",
    "        \"\"\"We simply derive a new class of frame\"\"\"\n",
    "        def __init__(self, parent, title):\n",
    "            wx.Frame.__init__(self, parent, title=title, size=(200,100))\n",
    "            self.control = wx.TextCtrl(self, style=wx.TE_MULTILINE)\n",
    "            self.CreateStatusBar() #A statusbar at the bottom of the window\n",
    "\n",
    "            # setting up the menu.\n",
    "            filemenu= wx.Menu()\n",
    "\n",
    "            # wx.ID_ABOUT and wx.ID_EXIT are standard IDs provided by wxWidgets\n",
    "            filemenu.Append(wx.ID_ABOUT, \"&About\",\" Information about this program\")\n",
    "            filemenu.AppendSeparator()\n",
    "            filemenu.Append(wx.ID_EDIT, \"&Exit\",\" Terminate the program\")\n",
    "\n",
    "            # Creating the menubar\n",
    "            menuBar = wx.MenuBar()\n",
    "            menuBar.Append(filemenu, \"&File\") # adding the \"filename\" to the...\n",
    "            self.SetMenuBar(menuBar) # Adding the MenuBar for the Frame content\n",
    "            self.Show(True)\n",
    "\n",
    "app = wx.App(False)\n",
    "frame = MyFrame(None, 'Sample editor')\n",
    "app.MainLoop()"
   ]
  },
  {
   "cell_type": "code",
   "execution_count": 19,
   "metadata": {
    "collapsed": true
   },
   "outputs": [],
   "source": [
    "!pythonw MainWindow.py"
   ]
  },
  {
   "cell_type": "markdown",
   "metadata": {},
   "source": [
    "## Event handling "
   ]
  },
  {
   "cell_type": "code",
   "execution_count": 21,
   "metadata": {
    "collapsed": false
   },
   "outputs": [
    {
     "name": "stdout",
     "output_type": "stream",
     "text": [
      "Overwriting MenuActions.py\n"
     ]
    }
   ],
   "source": [
    "%%writefile MenuActions.py\n",
    "#!/usr/bin/env pythonw\n",
    "import wx\n",
    "class MyFrame(wx.Frame):\n",
    "        \"\"\"We simply derive a new class of frame\"\"\"\n",
    "        def __init__(self, parent, title):\n",
    "            wx.Frame.__init__(self, parent, title=title, size=(200,100))\n",
    "            self.control = wx.TextCtrl(self, style=wx.TE_MULTILINE)\n",
    "            self.CreateStatusBar() #A statusbar at the bottom of the window\n",
    "\n",
    "            # setting up the menu.\n",
    "            filemenu= wx.Menu()\n",
    "\n",
    "            # wx.ID_ABOUT and wx.ID_EXIT are standard IDs provided by wxWidgets\n",
    "            # give names to the following things\n",
    "            menuAbout = filemenu.Append(wx.ID_ABOUT, \"&About\",\" Information about this program\")\n",
    "            filemenu.AppendSeparator()\n",
    "            menuExit = filemenu.Append(wx.ID_EDIT, \"&Exit\",\" Terminate the program\")\n",
    "\n",
    "            # Creating the menubar\n",
    "            menuBar = wx.MenuBar()\n",
    "            menuBar.Append(filemenu, \"&File\") # adding the \"filename\" to the...\n",
    "            self.SetMenuBar(menuBar) # Adding the MenuBar for the Frame content\n",
    "\n",
    "            #New code beings here:\n",
    "            #set events:\n",
    "            self.Bind(wx.EVT_MENU, self.OnAbout, menuAbout)\n",
    "            self.Bind(wx.EVT_MENU, self.OnExit, menuExit)\n",
    "            self.Show(True)\n",
    "\n",
    "        #add our new functions:\n",
    "\n",
    "        def OnAbout(self,e):\n",
    "            # A message dialog box with an OK button, wx.OK is a standard ID\n",
    "            dlg = wx.MessageDialog( self, \"I'm sorry.  sorry.  let's get burritos\", \"Actually Dominic, I KNEW IT\", wx.OK)\n",
    "            dlg.ShowModal() #show it\n",
    "            dlg.Destroy() # destroy it when finished\n",
    "\n",
    "        def OnExit(self,e):\n",
    "            self.Close(True) # close the frame\n",
    "\n",
    "app = wx.App(False)\n",
    "frame = MyFrame(None, 'Sample editor')\n",
    "app.MainLoop()"
   ]
  },
  {
   "cell_type": "code",
   "execution_count": 22,
   "metadata": {
    "collapsed": true
   },
   "outputs": [],
   "source": [
    "!pythonw MenuActions.py"
   ]
  },
  {
   "cell_type": "code",
   "execution_count": 24,
   "metadata": {
    "collapsed": false
   },
   "outputs": [
    {
     "name": "stdout",
     "output_type": "stream",
     "text": [
      "Overwriting MenuActionsOpen.py\n"
     ]
    }
   ],
   "source": [
    "%%writefile MenuActionsOpen.py\n",
    "#!/usr/bin/env pythonw\n",
    "import wx\n",
    "import os\n",
    "class MyFrame(wx.Frame):\n",
    "        \"\"\"We simply derive a new class of frame\"\"\"\n",
    "        def __init__(self, parent, title):\n",
    "            wx.Frame.__init__(self, parent, title=title, size=(200,100))\n",
    "            self.control = wx.TextCtrl(self, style=wx.TE_MULTILINE)\n",
    "            self.CreateStatusBar() #A statusbar at the bottom of the window\n",
    "\n",
    "            # setting up the menu.\n",
    "            filemenu= wx.Menu()\n",
    "\n",
    "            # wx.ID_ABOUT and wx.ID_EXIT are standard IDs provided by wxWidgets\n",
    "            # give names to the following things\n",
    "            menuOpen = filemenu.Append(wx.ID_OPEN, \"&Open\", \" Open text file\")  ###NEW\n",
    "            menuAbout = filemenu.Append(wx.ID_ABOUT, \"&About\",\" Information about this program\")\n",
    "            filemenu.AppendSeparator()\n",
    "            menuExit = filemenu.Append(wx.ID_EDIT, \"&Exit\",\" Terminate the program\")\n",
    "\n",
    "            # Creating the menubar\n",
    "            menuBar = wx.MenuBar()\n",
    "            menuBar.Append(filemenu, \"&File\") # adding the \"filename\" to the...\n",
    "            self.SetMenuBar(menuBar) # Adding the MenuBar for the Frame content\n",
    "\n",
    "            #New code beings here:\n",
    "            #set events:\n",
    "            self.Bind(wx.EVT_MENU, self.OnOpen, menuOpen)  ###New\n",
    "            self.Bind(wx.EVT_MENU, self.OnAbout, menuAbout)\n",
    "            self.Bind(wx.EVT_MENU, self.OnExit, menuExit)\n",
    "            self.Show(True)\n",
    "\n",
    "        #add our new functions:\n",
    "\n",
    "        def OnAbout(self,e):\n",
    "            # A message dialog box with an OK button, wx.OK is a standard ID\n",
    "            dlg = wx.MessageDialog( self, \"I'm sorry.  sorry.  let's get burritos\", \"Actually Dominic, I KNEW IT\", wx.OK)\n",
    "            dlg.ShowModal() #show it\n",
    "            dlg.Destroy() # destroy it when finished\n",
    "\n",
    "        def OnExit(self,e):\n",
    "            self.Close(True) # close the frame\n",
    "\n",
    "        def OnOpen(self,e):  ###NEW\n",
    "            \"\"\"Open a file\"\"\"\n",
    "            self.dirname = ''\n",
    "            dlg = wx.FileDialog(self, \"Choose a file\", self.dirname, \"\", \"*.*\", wx.OPEN)\n",
    "            if dlg.ShowModal() == wx.ID_OK:\n",
    "                self.filename = dlg.GetFilename()\n",
    "                self.dirname = dlg.GetDirectory()\n",
    "                f = open(os.path.join(self.dirname, self.filename), 'r')\n",
    "                self.control.SetValue(f.read())\n",
    "                f.close()\n",
    "            dlg.Destroy()\n",
    "\n",
    "app = wx.App(False)\n",
    "frame = MyFrame(None, 'Sample editor')\n",
    "app.MainLoop()"
   ]
  },
  {
   "cell_type": "code",
   "execution_count": 25,
   "metadata": {
    "collapsed": true
   },
   "outputs": [],
   "source": [
    "!pythonw MenuActionsOpen.py"
   ]
  },
  {
   "cell_type": "markdown",
   "metadata": {},
   "source": [
    "## Buttons"
   ]
  },
  {
   "cell_type": "code",
   "execution_count": 27,
   "metadata": {
    "collapsed": false
   },
   "outputs": [
    {
     "name": "stdout",
     "output_type": "stream",
     "text": [
      "Overwriting MenuButtons.py\n"
     ]
    }
   ],
   "source": [
    "%%writefile MenuButtons.py\n",
    "#!/usr/bin/env pythonw\n",
    "import wx\n",
    "import os\n",
    "class MyFrame(wx.Frame):\n",
    "        \"\"\"We simply derive a new class of frame\"\"\"\n",
    "        def __init__(self, parent, title):\n",
    "            wx.Frame.__init__(self, parent, title=title, size=(500,500))\n",
    "            self.control = wx.TextCtrl(self, style=wx.TE_MULTILINE)\n",
    "            self.CreateStatusBar() #A statusbar at the bottom of the window\n",
    "\n",
    "            # setting up the menu.\n",
    "            filemenu= wx.Menu()\n",
    "\n",
    "            # wx.ID_ABOUT and wx.ID_EXIT are standard IDs provided by wxWidgets\n",
    "            # give names to the following things\n",
    "            menuOpen = filemenu.Append(wx.ID_OPEN, \"&Open\", \" Open text file\")\n",
    "            menuAbout = filemenu.Append(wx.ID_ABOUT, \"&About\",\" Information about this program\")\n",
    "            filemenu.AppendSeparator()\n",
    "            menuExit = filemenu.Append(wx.ID_EDIT, \"&Exit\",\" Terminate the program\")\n",
    "\n",
    "            # Creating the menubar\n",
    "            menuBar = wx.MenuBar()\n",
    "            menuBar.Append(filemenu, \"&File\") # adding the \"filename\" to the...\n",
    "            self.SetMenuBar(menuBar) # Adding the MenuBar for the Frame content\n",
    "\n",
    "            #set events:\n",
    "            self.Bind(wx.EVT_MENU, self.OnOpen, menuOpen)\n",
    "            self.Bind(wx.EVT_MENU, self.OnAbout, menuAbout)\n",
    "            self.Bind(wx.EVT_MENU, self.OnExit, menuExit)\n",
    "\n",
    "            # New code here:\n",
    "\n",
    "            self.sizer2 = wx.BoxSizer(wx.HORIZONTAL) # stack the buttons in a horizontal way\n",
    "            self.buttons = []\n",
    "            for i in range(0,6):  # this command adds the buttons\n",
    "                self.buttons.append(wx.Button(self, -1, \"Button &\"+str(i)))\n",
    "                self.sizer2.Add(self.buttons[i], 1, wx.EXPAND) \n",
    "\n",
    "            #use some sizers to see layout options\n",
    "            self.sizer = wx.BoxSizer(wx.VERTICAL) # stack the text box and the button box vertically\n",
    "            self.sizer.Add(self.control, 1, wx.EXPAND) # the text editor\n",
    "            self.sizer.Add(self.sizer2, 0, wx.EXPAND) # the box where the buttons go\n",
    "\n",
    "            #Layout sizers\n",
    "            self.SetSizer(self.sizer)\n",
    "            self.SetAutoLayout(1)\n",
    "            self.sizer.Fit(self)\n",
    "            self.Show(True)\n",
    "\n",
    "        def OnAbout(self,e):\n",
    "            # A message dialog box with an OK button, wx.OK is a standard ID\n",
    "            dlg = wx.MessageDialog( self, \"I'm sorry.  sorry.  let's get burritos\", \"Actually Dominic, I KNEW IT\", wx.OK)\n",
    "            dlg.ShowModal() #show it\n",
    "            dlg.Destroy() # destroy it when finished\n",
    "\n",
    "        def OnExit(self,e):\n",
    "            self.Close(True) # close the frame\n",
    "\n",
    "        def OnOpen(self,e):  ###NEW\n",
    "            \"\"\"Open a file\"\"\"\n",
    "            self.dirname = ''\n",
    "            dlg = wx.FileDialog(self, \"Choose a file\", self.dirname, \"\", \"*.*\", wx.OPEN)\n",
    "            if dlg.ShowModal() == wx.ID_OK:\n",
    "                self.filename = dlg.GetFilename()\n",
    "                self.dirname = dlg.GetDirectory()\n",
    "                f = open(os.path.join(self.dirname, self.filename), 'r')\n",
    "                self.control.SetValue(f.read())\n",
    "                f.close()\n",
    "            dlg.Destroy()\n",
    "\n",
    "app = wx.App(False)\n",
    "frame = MyFrame(None, 'Sample editor')\n",
    "app.MainLoop()"
   ]
  },
  {
   "cell_type": "code",
   "execution_count": 28,
   "metadata": {
    "collapsed": true
   },
   "outputs": [],
   "source": [
    "!pythonw MenuButtons.py"
   ]
  },
  {
   "cell_type": "code",
   "execution_count": null,
   "metadata": {
    "collapsed": true
   },
   "outputs": [],
   "source": []
  }
 ],
 "metadata": {
  "anaconda-cloud": {},
  "kernelspec": {
   "display_name": "Python [conda root]",
   "language": "python",
   "name": "conda-root-py"
  },
  "language_info": {
   "codemirror_mode": {
    "name": "ipython",
    "version": 2
   },
   "file_extension": ".py",
   "mimetype": "text/x-python",
   "name": "python",
   "nbconvert_exporter": "python",
   "pygments_lexer": "ipython2",
   "version": "2.7.12"
  }
 },
 "nbformat": 4,
 "nbformat_minor": 1
}
